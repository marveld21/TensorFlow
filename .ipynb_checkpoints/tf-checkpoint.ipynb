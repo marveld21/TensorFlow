{
 "cells": [
  {
   "cell_type": "code",
   "execution_count": 1,
   "id": "480f2ba3",
   "metadata": {},
   "outputs": [],
   "source": [
    "# Import our dependencies\n",
    "import pandas as pd\n",
    "import matplotlib as plt\n",
    "from sklearn.datasets import make_blobs\n",
    "import sklearn as skl\n",
    "import tensorflow as tf"
   ]
  },
  {
   "cell_type": "code",
   "execution_count": 2,
   "id": "1efacf4d",
   "metadata": {},
   "outputs": [
    {
     "data": {
      "text/plain": [
       "<AxesSubplot:xlabel='Feature 1', ylabel='Feature 2'>"
      ]
     },
     "execution_count": 2,
     "metadata": {},
     "output_type": "execute_result"
    },
    {
     "data": {
      "image/png": "[encoded data removed]",
      "text/plain": [
       "<Figure size 432x288 with 2 Axes>"
      ]
     },
     "metadata": {
      "needs_background": "light"
     },
     "output_type": "display_data"
    }
   ],
   "source": [
    "# Generate dummy dataset\n",
    "X, y = make_blobs(n_samples=1000, centers=2, n_features=2, random_state=78)\n",
    "\n",
    "# Creating a DataFrame with the dummy data\n",
    "df = pd.DataFrame(X, columns=[\"Feature 1\", \"Feature 2\"])\n",
    "df[\"Target\"] = y\n",
    "\n",
    "# Plotting the dummy data\n",
    "df.plot.scatter(x=\"Feature 1\", y=\"Feature 2\", c=\"Target\", colormap=\"winter\")"
   ]
  },
  {
   "cell_type": "code",
   "execution_count": 3,
   "id": "6a2b36df",
   "metadata": {},
   "outputs": [],
   "source": [
    "# Use sklearn to split dataset\n",
    "from sklearn.model_selection import train_test_split\n",
    "X_train, X_test, y_train, y_test = train_test_split(X, y, random_state=78)"
   ]
  },
  {
   "cell_type": "code",
   "execution_count": 4,
   "id": "84f02d22",
   "metadata": {},
   "outputs": [],
   "source": [
    "# Create scaler instance\n",
    "X_scaler = skl.preprocessing.StandardScaler()\n",
    "\n",
    "# Fit the scaler\n",
    "X_scaler.fit(X_train)\n",
    "\n",
    "# Scale the data\n",
    "X_train_scaled = X_scaler.transform(X_train)\n",
    "X_test_scaled = X_scaler.transform(X_test)"
   ]
  },
  {
   "cell_type": "code",
   "execution_count": 5,
   "id": "6ab56bbb",
   "metadata": {},
   "outputs": [],
   "source": [
    "# Create the Keras Sequential model\n",
    "nn_model = tf.keras.models.Sequential()"
   ]
  },
  {
   "cell_type": "code",
   "execution_count": 6,
   "id": "af99a409",
   "metadata": {},
   "outputs": [],
   "source": [
    "# Add our first Dense layer, including the input layer\n",
    "nn_model.add(tf.keras.layers.Dense(units=1, activation=\"relu\", input_dim=2))"
   ]
  },
  {
   "cell_type": "code",
   "execution_count": 7,
   "id": "163f0687",
   "metadata": {},
   "outputs": [],
   "source": [
    "# Add the output layer that uses a probability activation function\n",
    "nn_model.add(tf.keras.layers.Dense(units=1, activation=\"sigmoid\"))"
   ]
  },
  {
   "cell_type": "code",
   "execution_count": 8,
   "id": "990246f6",
   "metadata": {},
   "outputs": [
    {
     "name": "stdout",
     "output_type": "stream",
     "text": [
      "Model: \"sequential\"\n",
      "_________________________________________________________________\n",
      " Layer (type)                Output Shape              Param #   \n",
      "=================================================================\n",
      " dense (Dense)               (None, 1)                 3         \n",
      "                                                                 \n",
      " dense_1 (Dense)             (None, 1)                 2         \n",
      "                                                                 \n",
      "=================================================================\n",
      "Total params: 5\n",
      "Trainable params: 5\n",
      "Non-trainable params: 0\n",
      "_________________________________________________________________\n"
     ]
    }
   ],
   "source": [
    "# Check the structure of the Sequential model\n",
    "nn_model.summary()"
   ]
  },
  {
   "cell_type": "code",
   "execution_count": 9,
   "id": "c746ebaa",
   "metadata": {},
   "outputs": [],
   "source": [
    "# Compile the Sequential model together and customize metrics\n",
    "nn_model.compile(loss=\"binary_crossentropy\", optimizer=\"adam\", metrics=[\"accuracy\"])"
   ]
  },
  {
   "cell_type": "code",
   "execution_count": 10,
   "id": "8b203db3",
   "metadata": {},
   "outputs": [
    {
     "name": "stdout",
     "output_type": "stream",
     "text": [
      "Epoch 1/100\n",
      "24/24 [==============================] - 0s 783us/step - loss: 0.4871 - accuracy: 1.0000\n",
      "Epoch 2/100\n",
      "24/24 [==============================] - 0s 739us/step - loss: 0.4715 - accuracy: 1.0000\n",
      "Epoch 3/100\n",
      "24/24 [==============================] - 0s 737us/step - loss: 0.4564 - accuracy: 1.0000\n",
      "Epoch 4/100\n",
      "24/24 [==============================] - 0s 696us/step - loss: 0.4421 - accuracy: 1.0000\n",
      "Epoch 5/100\n",
      "24/24 [==============================] - 0s 696us/step - loss: 0.4284 - accuracy: 1.0000\n",
      "Epoch 6/100\n",
      "24/24 [==============================] - 0s 739us/step - loss: 0.4154 - accuracy: 1.0000\n",
      "Epoch 7/100\n",
      "24/24 [==============================] - 0s 739us/step - loss: 0.4031 - accuracy: 1.0000\n",
      "Epoch 8/100\n",
      "24/24 [==============================] - 0s 696us/step - loss: 0.3914 - accuracy: 1.0000\n",
      "Epoch 9/100\n",
      "24/24 [==============================] - 0s 739us/step - loss: 0.3802 - accuracy: 1.0000\n",
      "Epoch 10/100\n",
      "24/24 [==============================] - 0s 696us/step - loss: 0.3696 - accuracy: 1.0000\n",
      "Epoch 11/100\n",
      "24/24 [==============================] - 0s 826us/step - loss: 0.3594 - accuracy: 1.0000\n",
      "Epoch 12/100\n",
      "24/24 [==============================] - 0s 826us/step - loss: 0.3497 - accuracy: 1.0000\n",
      "Epoch 13/100\n",
      "24/24 [==============================] - 0s 783us/step - loss: 0.3405 - accuracy: 1.0000\n",
      "Epoch 14/100\n",
      "24/24 [==============================] - 0s 783us/step - loss: 0.3317 - accuracy: 1.0000\n",
      "Epoch 15/100\n",
      "24/24 [==============================] - 0s 783us/step - loss: 0.3232 - accuracy: 1.0000\n",
      "Epoch 16/100\n",
      "24/24 [==============================] - 0s 783us/step - loss: 0.3152 - accuracy: 1.0000\n",
      "Epoch 17/100\n",
      "24/24 [==============================] - 0s 763us/step - loss: 0.3075 - accuracy: 1.0000\n",
      "Epoch 18/100\n",
      "24/24 [==============================] - 0s 739us/step - loss: 0.3000 - accuracy: 1.0000\n",
      "Epoch 19/100\n",
      "24/24 [==============================] - 0s 739us/step - loss: 0.2929 - accuracy: 1.0000\n",
      "Epoch 20/100\n",
      "24/24 [==============================] - 0s 783us/step - loss: 0.2861 - accuracy: 1.0000\n",
      "Epoch 21/100\n",
      "24/24 [==============================] - 0s 783us/step - loss: 0.2795 - accuracy: 1.0000\n",
      "Epoch 22/100\n",
      "24/24 [==============================] - 0s 739us/step - loss: 0.2732 - accuracy: 1.0000\n",
      "Epoch 23/100\n",
      "24/24 [==============================] - 0s 783us/step - loss: 0.2670 - accuracy: 1.0000\n",
      "Epoch 24/100\n",
      "24/24 [==============================] - 0s 947us/step - loss: 0.2611 - accuracy: 1.0000\n",
      "Epoch 25/100\n",
      "24/24 [==============================] - 0s 783us/step - loss: 0.2554 - accuracy: 1.0000\n",
      "Epoch 26/100\n",
      "24/24 [==============================] - 0s 826us/step - loss: 0.2499 - accuracy: 1.0000\n",
      "Epoch 27/100\n",
      "24/24 [==============================] - 0s 783us/step - loss: 0.2446 - accuracy: 1.0000\n",
      "Epoch 28/100\n",
      "24/24 [==============================] - 0s 739us/step - loss: 0.2394 - accuracy: 1.0000\n",
      "Epoch 29/100\n",
      "24/24 [==============================] - 0s 783us/step - loss: 0.2345 - accuracy: 1.0000\n",
      "Epoch 30/100\n",
      "24/24 [==============================] - 0s 783us/step - loss: 0.2296 - accuracy: 1.0000\n",
      "Epoch 31/100\n",
      "24/24 [==============================] - 0s 783us/step - loss: 0.2249 - accuracy: 1.0000\n",
      "Epoch 32/100\n",
      "24/24 [==============================] - 0s 826us/step - loss: 0.2204 - accuracy: 1.0000\n",
      "Epoch 33/100\n",
      "24/24 [==============================] - 0s 783us/step - loss: 0.2160 - accuracy: 1.0000\n",
      "Epoch 34/100\n",
      "24/24 [==============================] - 0s 739us/step - loss: 0.2117 - accuracy: 1.0000\n",
      "Epoch 35/100\n",
      "24/24 [==============================] - 0s 739us/step - loss: 0.2076 - accuracy: 1.0000\n",
      "Epoch 36/100\n",
      "24/24 [==============================] - 0s 739us/step - loss: 0.2035 - accuracy: 1.0000\n",
      "Epoch 37/100\n",
      "24/24 [==============================] - 0s 696us/step - loss: 0.1996 - accuracy: 1.0000\n",
      "Epoch 38/100\n",
      "24/24 [==============================] - 0s 739us/step - loss: 0.1958 - accuracy: 1.0000\n",
      "Epoch 39/100\n",
      "24/24 [==============================] - 0s 826us/step - loss: 0.1921 - accuracy: 1.0000\n",
      "Epoch 40/100\n",
      "24/24 [==============================] - 0s 826us/step - loss: 0.1885 - accuracy: 1.0000\n",
      "Epoch 41/100\n",
      "24/24 [==============================] - 0s 696us/step - loss: 0.1849 - accuracy: 1.0000\n",
      "Epoch 42/100\n",
      "24/24 [==============================] - 0s 696us/step - loss: 0.1815 - accuracy: 1.0000\n",
      "Epoch 43/100\n",
      "24/24 [==============================] - 0s 739us/step - loss: 0.1782 - accuracy: 1.0000\n",
      "Epoch 44/100\n",
      "24/24 [==============================] - 0s 739us/step - loss: 0.1749 - accuracy: 1.0000\n",
      "Epoch 45/100\n",
      "24/24 [==============================] - 0s 739us/step - loss: 0.1717 - accuracy: 1.0000\n",
      "Epoch 46/100\n",
      "24/24 [==============================] - 0s 783us/step - loss: 0.1686 - accuracy: 1.0000\n",
      "Epoch 47/100\n",
      "24/24 [==============================] - 0s 783us/step - loss: 0.1656 - accuracy: 1.0000\n",
      "Epoch 48/100\n",
      "24/24 [==============================] - 0s 783us/step - loss: 0.1627 - accuracy: 1.0000\n",
      "Epoch 49/100\n",
      "24/24 [==============================] - 0s 783us/step - loss: 0.1598 - accuracy: 1.0000\n",
      "Epoch 50/100\n",
      "24/24 [==============================] - 0s 826us/step - loss: 0.1570 - accuracy: 1.0000\n",
      "Epoch 51/100\n",
      "24/24 [==============================] - 0s 791us/step - loss: 0.1543 - accuracy: 1.0000\n",
      "Epoch 52/100\n",
      "24/24 [==============================] - 0s 783us/step - loss: 0.1516 - accuracy: 1.0000\n",
      "Epoch 53/100\n",
      "24/24 [==============================] - 0s 783us/step - loss: 0.1490 - accuracy: 1.0000\n",
      "Epoch 54/100\n",
      "24/24 [==============================] - 0s 739us/step - loss: 0.1465 - accuracy: 1.0000\n",
      "Epoch 55/100\n",
      "24/24 [==============================] - 0s 783us/step - loss: 0.1440 - accuracy: 1.0000\n",
      "Epoch 56/100\n",
      "24/24 [==============================] - 0s 783us/step - loss: 0.1416 - accuracy: 1.0000\n",
      "Epoch 57/100\n",
      "24/24 [==============================] - 0s 783us/step - loss: 0.1392 - accuracy: 1.0000\n",
      "Epoch 58/100\n",
      "24/24 [==============================] - 0s 783us/step - loss: 0.1369 - accuracy: 1.0000\n",
      "Epoch 59/100\n",
      "24/24 [==============================] - 0s 826us/step - loss: 0.1346 - accuracy: 1.0000\n",
      "Epoch 60/100\n",
      "24/24 [==============================] - 0s 783us/step - loss: 0.1324 - accuracy: 1.0000\n",
      "Epoch 61/100\n",
      "24/24 [==============================] - 0s 783us/step - loss: 0.1302 - accuracy: 1.0000\n",
      "Epoch 62/100\n",
      "24/24 [==============================] - 0s 870us/step - loss: 0.1281 - accuracy: 1.0000\n",
      "Epoch 63/100\n",
      "24/24 [==============================] - 0s 870us/step - loss: 0.1260 - accuracy: 1.0000\n",
      "Epoch 64/100\n",
      "24/24 [==============================] - 0s 913us/step - loss: 0.1240 - accuracy: 1.0000\n",
      "Epoch 65/100\n",
      "24/24 [==============================] - 0s 870us/step - loss: 0.1220 - accuracy: 1.0000\n",
      "Epoch 66/100\n",
      "24/24 [==============================] - 0s 783us/step - loss: 0.1201 - accuracy: 1.0000\n",
      "Epoch 67/100\n",
      "24/24 [==============================] - 0s 739us/step - loss: 0.1181 - accuracy: 1.0000\n",
      "Epoch 68/100\n",
      "24/24 [==============================] - 0s 783us/step - loss: 0.1162 - accuracy: 1.0000\n",
      "Epoch 69/100\n",
      "24/24 [==============================] - 0s 739us/step - loss: 0.1144 - accuracy: 1.0000\n",
      "Epoch 70/100\n",
      "24/24 [==============================] - 0s 739us/step - loss: 0.1126 - accuracy: 1.0000\n",
      "Epoch 71/100\n",
      "24/24 [==============================] - 0s 739us/step - loss: 0.1109 - accuracy: 1.0000\n",
      "Epoch 72/100\n",
      "24/24 [==============================] - 0s 783us/step - loss: 0.1091 - accuracy: 1.0000\n",
      "Epoch 73/100\n",
      "24/24 [==============================] - 0s 739us/step - loss: 0.1075 - accuracy: 1.0000\n",
      "Epoch 74/100\n",
      "24/24 [==============================] - 0s 739us/step - loss: 0.1058 - accuracy: 1.0000\n",
      "Epoch 75/100\n",
      "24/24 [==============================] - 0s 783us/step - loss: 0.1042 - accuracy: 1.0000\n",
      "Epoch 76/100\n",
      "24/24 [==============================] - 0s 783us/step - loss: 0.1026 - accuracy: 1.0000\n",
      "Epoch 77/100\n",
      "24/24 [==============================] - 0s 783us/step - loss: 0.1010 - accuracy: 1.0000\n",
      "Epoch 78/100\n",
      "24/24 [==============================] - 0s 783us/step - loss: 0.0995 - accuracy: 1.0000\n",
      "Epoch 79/100\n",
      "24/24 [==============================] - 0s 739us/step - loss: 0.0980 - accuracy: 1.0000\n",
      "Epoch 80/100\n",
      "24/24 [==============================] - 0s 783us/step - loss: 0.0965 - accuracy: 1.0000\n",
      "Epoch 81/100\n",
      "24/24 [==============================] - 0s 739us/step - loss: 0.0951 - accuracy: 1.0000\n",
      "Epoch 82/100\n",
      "24/24 [==============================] - 0s 783us/step - loss: 0.0937 - accuracy: 1.0000\n",
      "Epoch 83/100\n",
      "24/24 [==============================] - 0s 739us/step - loss: 0.0923 - accuracy: 1.0000\n",
      "Epoch 84/100\n",
      "24/24 [==============================] - 0s 739us/step - loss: 0.0909 - accuracy: 1.0000\n",
      "Epoch 85/100\n",
      "24/24 [==============================] - 0s 783us/step - loss: 0.0896 - accuracy: 1.0000\n",
      "Epoch 86/100\n",
      "24/24 [==============================] - 0s 696us/step - loss: 0.0883 - accuracy: 1.0000\n",
      "Epoch 87/100\n",
      "24/24 [==============================] - 0s 739us/step - loss: 0.0870 - accuracy: 1.0000\n",
      "Epoch 88/100\n",
      "24/24 [==============================] - 0s 739us/step - loss: 0.0857 - accuracy: 1.0000\n",
      "Epoch 89/100\n",
      "24/24 [==============================] - 0s 739us/step - loss: 0.0845 - accuracy: 1.0000\n",
      "Epoch 90/100\n",
      "24/24 [==============================] - 0s 783us/step - loss: 0.0833 - accuracy: 1.0000\n",
      "Epoch 91/100\n",
      "24/24 [==============================] - 0s 696us/step - loss: 0.0821 - accuracy: 1.0000\n",
      "Epoch 92/100\n",
      "24/24 [==============================] - 0s 739us/step - loss: 0.0809 - accuracy: 1.0000\n",
      "Epoch 93/100\n",
      "24/24 [==============================] - 0s 739us/step - loss: 0.0798 - accuracy: 1.0000\n",
      "Epoch 94/100\n",
      "24/24 [==============================] - 0s 696us/step - loss: 0.0787 - accuracy: 1.0000\n",
      "Epoch 95/100\n",
      "24/24 [==============================] - 0s 739us/step - loss: 0.0775 - accuracy: 1.0000\n",
      "Epoch 96/100\n",
      "24/24 [==============================] - 0s 739us/step - loss: 0.0764 - accuracy: 1.0000\n",
      "Epoch 97/100\n",
      "24/24 [==============================] - 0s 783us/step - loss: 0.0754 - accuracy: 1.0000\n",
      "Epoch 98/100\n",
      "24/24 [==============================] - 0s 739us/step - loss: 0.0743 - accuracy: 1.0000\n",
      "Epoch 99/100\n",
      "24/24 [==============================] - 0s 739us/step - loss: 0.0733 - accuracy: 1.0000\n",
      "Epoch 100/100\n",
      "24/24 [==============================] - 0s 739us/step - loss: 0.0723 - accuracy: 1.0000\n"
     ]
    }
   ],
   "source": [
    "# Fit the model to the training data\n",
    "fit_model = nn_model.fit(X_train_scaled, y_train, epochs=100)"
   ]
  },
  {
   "cell_type": "code",
   "execution_count": 11,
   "id": "cc59dc3f",
   "metadata": {},
   "outputs": [
    {
     "data": {
      "text/plain": [
       "<AxesSubplot:>"
      ]
     },
     "execution_count": 11,
     "metadata": {},
     "output_type": "execute_result"
    },
    {
     "data": {
      "image/png": "[encoded data removed]",
      "text/plain": [
       "<Figure size 432x288 with 1 Axes>"
      ]
     },
     "metadata": {
      "needs_background": "light"
     },
     "output_type": "display_data"
    }
   ],
   "source": [
    "# Create a DataFrame containing training history\n",
    "history_df = pd.DataFrame(fit_model.history, index=range(1,len(fit_model.history[\"loss\"])+1))\n",
    "\n",
    "# Plot the loss\n",
    "history_df.plot(y=\"loss\")"
   ]
  },
  {
   "cell_type": "code",
   "execution_count": 12,
   "id": "27802df0",
   "metadata": {},
   "outputs": [
    {
     "data": {
      "text/plain": [
       "<AxesSubplot:>"
      ]
     },
     "execution_count": 12,
     "metadata": {},
     "output_type": "execute_result"
    },
    {
     "data": {
      "image/png": "[encoded data removed]",
      "text/plain": [
       "<Figure size 432x288 with 1 Axes>"
      ]
     },
     "metadata": {
      "needs_background": "light"
     },
     "output_type": "display_data"
    }
   ],
   "source": [
    "# Plot the accuracy\n",
    "history_df.plot(y=\"accuracy\")"
   ]
  },
  {
   "cell_type": "code",
   "execution_count": 13,
   "id": "5033a236",
   "metadata": {},
   "outputs": [
    {
     "name": "stdout",
     "output_type": "stream",
     "text": [
      "8/8 - 0s - loss: 0.0675 - accuracy: 1.0000 - 119ms/epoch - 15ms/step\n",
      "Loss: 0.0675257220864296, Accuracy: 1.0\n"
     ]
    }
   ],
   "source": [
    "# Evaluate the model using the test data\n",
    "model_loss, model_accuracy = nn_model.evaluate(X_test_scaled,y_test,verbose=2)\n",
    "print(f\"Loss: {model_loss}, Accuracy: {model_accuracy}\")"
   ]
  },
  {
   "cell_type": "code",
   "execution_count": 14,
   "id": "2a9be038",
   "metadata": {},
   "outputs": [
    {
     "name": "stdout",
     "output_type": "stream",
     "text": [
      "1/1 [==============================] - 0s 56ms/step\n"
     ]
    },
    {
     "data": {
      "text/plain": [
       "array([[0],\n",
       "       [1],\n",
       "       [0],\n",
       "       [1],\n",
       "       [0],\n",
       "       [0],\n",
       "       [1],\n",
       "       [1],\n",
       "       [1],\n",
       "       [0]])"
      ]
     },
     "execution_count": 14,
     "metadata": {},
     "output_type": "execute_result"
    }
   ],
   "source": [
    "# Predict the classification of a new set of blob data\n",
    "new_X, new_Y = make_blobs(n_samples=10, centers=2, n_features=2, random_state=78)\n",
    "new_X_scaled = X_scaler.transform(new_X)\n",
    "(nn_model.predict(new_X_scaled) > 0.5).astype(\"int32\")"
   ]
  },
  {
   "cell_type": "code",
   "execution_count": 15,
   "id": "939e0785",
   "metadata": {},
   "outputs": [
    {
     "data": {
      "text/plain": [
       "<AxesSubplot:xlabel='Feature 1', ylabel='Feature 2'>"
      ]
     },
     "execution_count": 15,
     "metadata": {},
     "output_type": "execute_result"
    },
    {
     "data": {
      "image/png": "[encoded data removed]",
      "text/plain": [
       "<Figure size 432x288 with 2 Axes>"
      ]
     },
     "metadata": {
      "needs_background": "light"
     },
     "output_type": "display_data"
    }
   ],
   "source": [
    "from sklearn.datasets import make_moons\n",
    "\n",
    "# Creating dummy nonlinear data\n",
    "X_moons, y_moons = make_moons(n_samples=1000, noise=0.08, random_state=78)\n",
    "\n",
    "# Transforming y_moons to a vertical vector\n",
    "y_moons = y_moons.reshape(-1, 1)\n",
    "\n",
    "# Creating a DataFrame to plot the nonlinear dummy data\n",
    "df_moons = pd.DataFrame(X_moons, columns=[\"Feature 1\", \"Feature 2\"])\n",
    "df_moons[\"Target\"] = y_moons\n",
    "\n",
    "# Plot the nonlinear dummy data\n",
    "df_moons.plot.scatter(x=\"Feature 1\",y=\"Feature 2\", c=\"Target\",colormap=\"winter\")"
   ]
  },
  {
   "cell_type": "code",
   "execution_count": 16,
   "id": "6d06b1a1",
   "metadata": {},
   "outputs": [],
   "source": [
    "# Create training and testing sets\n",
    "X_moon_train, X_moon_test, y_moon_train, y_moon_test = train_test_split(\n",
    "    X_moons, y_moons, random_state=78\n",
    ")\n",
    "\n",
    "# Create the scaler instance\n",
    "X_moon_scaler = skl.preprocessing.StandardScaler()\n",
    "\n",
    "# Fit the scaler\n",
    "X_moon_scaler.fit(X_moon_train)\n",
    "\n",
    "# Scale the data\n",
    "X_moon_train_scaled = X_moon_scaler.transform(X_moon_train)\n",
    "X_moon_test_scaled = X_moon_scaler.transform(X_moon_test)"
   ]
  },
  {
   "cell_type": "code",
   "execution_count": 17,
   "id": "9a6df660",
   "metadata": {},
   "outputs": [
    {
     "name": "stdout",
     "output_type": "stream",
     "text": [
      "Epoch 1/100\n",
      "24/24 [==============================] - 0s 739us/step - loss: 1.0702 - accuracy: 0.5040\n",
      "Epoch 2/100\n",
      "24/24 [==============================] - 0s 783us/step - loss: 0.9101 - accuracy: 0.5373\n",
      "Epoch 3/100\n",
      "24/24 [==============================] - 0s 783us/step - loss: 0.8134 - accuracy: 0.5640\n",
      "Epoch 4/100\n",
      "24/24 [==============================] - 0s 739us/step - loss: 0.7469 - accuracy: 0.5920\n",
      "Epoch 5/100\n",
      "24/24 [==============================] - 0s 826us/step - loss: 0.7005 - accuracy: 0.6067\n",
      "Epoch 6/100\n",
      "24/24 [==============================] - 0s 783us/step - loss: 0.6646 - accuracy: 0.6227\n",
      "Epoch 7/100\n",
      "24/24 [==============================] - 0s 783us/step - loss: 0.6356 - accuracy: 0.6387\n",
      "Epoch 8/100\n",
      "24/24 [==============================] - 0s 741us/step - loss: 0.6105 - accuracy: 0.6560\n",
      "Epoch 9/100\n",
      "24/24 [==============================] - 0s 739us/step - loss: 0.5886 - accuracy: 0.6653\n",
      "Epoch 10/100\n",
      "24/24 [==============================] - 0s 696us/step - loss: 0.5681 - accuracy: 0.6733\n",
      "Epoch 11/100\n",
      "24/24 [==============================] - 0s 783us/step - loss: 0.5490 - accuracy: 0.6947\n",
      "Epoch 12/100\n",
      "24/24 [==============================] - 0s 739us/step - loss: 0.5298 - accuracy: 0.7080\n",
      "Epoch 13/100\n",
      "24/24 [==============================] - 0s 783us/step - loss: 0.5116 - accuracy: 0.7173\n",
      "Epoch 14/100\n",
      "24/24 [==============================] - 0s 826us/step - loss: 0.4944 - accuracy: 0.7267\n",
      "Epoch 15/100\n",
      "24/24 [==============================] - 0s 739us/step - loss: 0.4781 - accuracy: 0.7347\n",
      "Epoch 16/100\n",
      "24/24 [==============================] - 0s 739us/step - loss: 0.4624 - accuracy: 0.7400\n",
      "Epoch 17/100\n",
      "24/24 [==============================] - 0s 783us/step - loss: 0.4482 - accuracy: 0.7480\n",
      "Epoch 18/100\n",
      "24/24 [==============================] - 0s 739us/step - loss: 0.4341 - accuracy: 0.7547\n",
      "Epoch 19/100\n",
      "24/24 [==============================] - 0s 696us/step - loss: 0.4213 - accuracy: 0.7627\n",
      "Epoch 20/100\n",
      "24/24 [==============================] - 0s 783us/step - loss: 0.4091 - accuracy: 0.7707\n",
      "Epoch 21/100\n",
      "24/24 [==============================] - 0s 870us/step - loss: 0.3983 - accuracy: 0.7840\n",
      "Epoch 22/100\n",
      "24/24 [==============================] - 0s 826us/step - loss: 0.3877 - accuracy: 0.7933\n",
      "Epoch 23/100\n",
      "24/24 [==============================] - 0s 826us/step - loss: 0.3781 - accuracy: 0.7973\n",
      "Epoch 24/100\n",
      "24/24 [==============================] - 0s 826us/step - loss: 0.3693 - accuracy: 0.8040\n",
      "Epoch 25/100\n",
      "24/24 [==============================] - 0s 826us/step - loss: 0.3609 - accuracy: 0.8120\n",
      "Epoch 26/100\n",
      "24/24 [==============================] - 0s 913us/step - loss: 0.3533 - accuracy: 0.8160\n",
      "Epoch 27/100\n",
      "24/24 [==============================] - 0s 870us/step - loss: 0.3462 - accuracy: 0.8213\n",
      "Epoch 28/100\n",
      "24/24 [==============================] - 0s 957us/step - loss: 0.3397 - accuracy: 0.8307\n",
      "Epoch 29/100\n",
      "24/24 [==============================] - 0s 957us/step - loss: 0.3342 - accuracy: 0.8347\n",
      "Epoch 30/100\n",
      "24/24 [==============================] - 0s 870us/step - loss: 0.3291 - accuracy: 0.8413\n",
      "Epoch 31/100\n",
      "24/24 [==============================] - 0s 870us/step - loss: 0.3248 - accuracy: 0.8453\n",
      "Epoch 32/100\n",
      "24/24 [==============================] - 0s 870us/step - loss: 0.3207 - accuracy: 0.8480\n",
      "Epoch 33/100\n",
      "24/24 [==============================] - 0s 870us/step - loss: 0.3173 - accuracy: 0.8560\n",
      "Epoch 34/100\n",
      "24/24 [==============================] - 0s 870us/step - loss: 0.3141 - accuracy: 0.8587\n",
      "Epoch 35/100\n",
      "24/24 [==============================] - 0s 826us/step - loss: 0.3112 - accuracy: 0.8640\n",
      "Epoch 36/100\n",
      "24/24 [==============================] - 0s 870us/step - loss: 0.3086 - accuracy: 0.8653\n",
      "Epoch 37/100\n",
      "24/24 [==============================] - 0s 826us/step - loss: 0.3061 - accuracy: 0.8667\n",
      "Epoch 38/100\n",
      "24/24 [==============================] - 0s 913us/step - loss: 0.3039 - accuracy: 0.8667\n",
      "Epoch 39/100\n",
      "24/24 [==============================] - 0s 913us/step - loss: 0.3018 - accuracy: 0.8693\n",
      "Epoch 40/100\n",
      "24/24 [==============================] - 0s 1ms/step - loss: 0.2998 - accuracy: 0.8707\n",
      "Epoch 41/100\n",
      "24/24 [==============================] - 0s 913us/step - loss: 0.2980 - accuracy: 0.8707\n",
      "Epoch 42/100\n",
      "24/24 [==============================] - 0s 957us/step - loss: 0.2963 - accuracy: 0.8733\n",
      "Epoch 43/100\n",
      "24/24 [==============================] - 0s 913us/step - loss: 0.2947 - accuracy: 0.8733\n",
      "Epoch 44/100\n",
      "24/24 [==============================] - 0s 870us/step - loss: 0.2932 - accuracy: 0.8733\n",
      "Epoch 45/100\n",
      "24/24 [==============================] - 0s 826us/step - loss: 0.2918 - accuracy: 0.8733\n",
      "Epoch 46/100\n",
      "24/24 [==============================] - 0s 870us/step - loss: 0.2905 - accuracy: 0.8733\n",
      "Epoch 47/100\n",
      "24/24 [==============================] - 0s 870us/step - loss: 0.2892 - accuracy: 0.8733\n",
      "Epoch 48/100\n",
      "24/24 [==============================] - 0s 870us/step - loss: 0.2879 - accuracy: 0.8747\n",
      "Epoch 49/100\n",
      "24/24 [==============================] - 0s 826us/step - loss: 0.2868 - accuracy: 0.8787\n",
      "Epoch 50/100\n",
      "24/24 [==============================] - 0s 826us/step - loss: 0.2856 - accuracy: 0.8787\n",
      "Epoch 51/100\n",
      "24/24 [==============================] - 0s 826us/step - loss: 0.2846 - accuracy: 0.8800\n",
      "Epoch 52/100\n",
      "24/24 [==============================] - 0s 870us/step - loss: 0.2835 - accuracy: 0.8827\n",
      "Epoch 53/100\n",
      "24/24 [==============================] - 0s 870us/step - loss: 0.2826 - accuracy: 0.8827\n",
      "Epoch 54/100\n",
      "24/24 [==============================] - 0s 739us/step - loss: 0.2815 - accuracy: 0.8853\n",
      "Epoch 55/100\n",
      "24/24 [==============================] - 0s 826us/step - loss: 0.2806 - accuracy: 0.8853\n",
      "Epoch 56/100\n",
      "24/24 [==============================] - 0s 783us/step - loss: 0.2797 - accuracy: 0.8867\n",
      "Epoch 57/100\n",
      "24/24 [==============================] - 0s 826us/step - loss: 0.2788 - accuracy: 0.8880\n",
      "Epoch 58/100\n",
      "24/24 [==============================] - 0s 1ms/step - loss: 0.2780 - accuracy: 0.8893\n",
      "Epoch 59/100\n",
      "24/24 [==============================] - 0s 826us/step - loss: 0.2772 - accuracy: 0.8893\n",
      "Epoch 60/100\n",
      "24/24 [==============================] - 0s 826us/step - loss: 0.2765 - accuracy: 0.8907\n",
      "Epoch 61/100\n",
      "24/24 [==============================] - 0s 826us/step - loss: 0.2757 - accuracy: 0.8907\n",
      "Epoch 62/100\n",
      "24/24 [==============================] - 0s 826us/step - loss: 0.2750 - accuracy: 0.8907\n",
      "Epoch 63/100\n",
      "24/24 [==============================] - 0s 783us/step - loss: 0.2744 - accuracy: 0.8920\n",
      "Epoch 64/100\n",
      "24/24 [==============================] - 0s 826us/step - loss: 0.2737 - accuracy: 0.8920\n",
      "Epoch 65/100\n",
      "24/24 [==============================] - 0s 826us/step - loss: 0.2731 - accuracy: 0.8920\n",
      "Epoch 66/100\n",
      "24/24 [==============================] - 0s 913us/step - loss: 0.2726 - accuracy: 0.8920\n",
      "Epoch 67/100\n",
      "24/24 [==============================] - 0s 870us/step - loss: 0.2719 - accuracy: 0.8920\n",
      "Epoch 68/100\n",
      "24/24 [==============================] - 0s 913us/step - loss: 0.2713 - accuracy: 0.8933\n",
      "Epoch 69/100\n",
      "24/24 [==============================] - 0s 870us/step - loss: 0.2709 - accuracy: 0.8933\n",
      "Epoch 70/100\n",
      "24/24 [==============================] - 0s 957us/step - loss: 0.2702 - accuracy: 0.8933\n",
      "Epoch 71/100\n",
      "24/24 [==============================] - 0s 870us/step - loss: 0.2697 - accuracy: 0.8933\n",
      "Epoch 72/100\n",
      "24/24 [==============================] - 0s 870us/step - loss: 0.2693 - accuracy: 0.8933\n",
      "Epoch 73/100\n",
      "24/24 [==============================] - 0s 870us/step - loss: 0.2688 - accuracy: 0.8933\n",
      "Epoch 74/100\n",
      "24/24 [==============================] - 0s 870us/step - loss: 0.2683 - accuracy: 0.8920\n",
      "Epoch 75/100\n",
      "24/24 [==============================] - 0s 870us/step - loss: 0.2679 - accuracy: 0.8920\n",
      "Epoch 76/100\n",
      "24/24 [==============================] - 0s 870us/step - loss: 0.2674 - accuracy: 0.8920\n",
      "Epoch 77/100\n",
      "24/24 [==============================] - 0s 826us/step - loss: 0.2670 - accuracy: 0.8907\n",
      "Epoch 78/100\n",
      "24/24 [==============================] - 0s 870us/step - loss: 0.2666 - accuracy: 0.8907\n",
      "Epoch 79/100\n",
      "24/24 [==============================] - 0s 826us/step - loss: 0.2662 - accuracy: 0.8907\n",
      "Epoch 80/100\n",
      "24/24 [==============================] - 0s 826us/step - loss: 0.2658 - accuracy: 0.8920\n",
      "Epoch 81/100\n"
     ]
    },
    {
     "name": "stdout",
     "output_type": "stream",
     "text": [
      "24/24 [==============================] - 0s 913us/step - loss: 0.2655 - accuracy: 0.8920\n",
      "Epoch 82/100\n",
      "24/24 [==============================] - 0s 870us/step - loss: 0.2650 - accuracy: 0.8907\n",
      "Epoch 83/100\n",
      "24/24 [==============================] - 0s 826us/step - loss: 0.2647 - accuracy: 0.8920\n",
      "Epoch 84/100\n",
      "24/24 [==============================] - 0s 870us/step - loss: 0.2643 - accuracy: 0.8920\n",
      "Epoch 85/100\n",
      "24/24 [==============================] - 0s 826us/step - loss: 0.2640 - accuracy: 0.8920\n",
      "Epoch 86/100\n",
      "24/24 [==============================] - 0s 870us/step - loss: 0.2638 - accuracy: 0.8920\n",
      "Epoch 87/100\n",
      "24/24 [==============================] - 0s 783us/step - loss: 0.2636 - accuracy: 0.8920\n",
      "Epoch 88/100\n",
      "24/24 [==============================] - 0s 783us/step - loss: 0.2631 - accuracy: 0.8920\n",
      "Epoch 89/100\n",
      "24/24 [==============================] - 0s 783us/step - loss: 0.2628 - accuracy: 0.8920\n",
      "Epoch 90/100\n",
      "24/24 [==============================] - 0s 783us/step - loss: 0.2626 - accuracy: 0.8920\n",
      "Epoch 91/100\n",
      "24/24 [==============================] - 0s 783us/step - loss: 0.2623 - accuracy: 0.8920\n",
      "Epoch 92/100\n",
      "24/24 [==============================] - 0s 826us/step - loss: 0.2620 - accuracy: 0.8920\n",
      "Epoch 93/100\n",
      "24/24 [==============================] - 0s 826us/step - loss: 0.2617 - accuracy: 0.8920\n",
      "Epoch 94/100\n",
      "24/24 [==============================] - 0s 1ms/step - loss: 0.2615 - accuracy: 0.8920\n",
      "Epoch 95/100\n",
      "24/24 [==============================] - 0s 913us/step - loss: 0.2613 - accuracy: 0.8920\n",
      "Epoch 96/100\n",
      "24/24 [==============================] - 0s 870us/step - loss: 0.2611 - accuracy: 0.8920\n",
      "Epoch 97/100\n",
      "24/24 [==============================] - 0s 870us/step - loss: 0.2608 - accuracy: 0.8920\n",
      "Epoch 98/100\n",
      "24/24 [==============================] - 0s 870us/step - loss: 0.2606 - accuracy: 0.8920\n",
      "Epoch 99/100\n",
      "24/24 [==============================] - 0s 870us/step - loss: 0.2603 - accuracy: 0.8920\n",
      "Epoch 100/100\n",
      "24/24 [==============================] - 0s 870us/step - loss: 0.2601 - accuracy: 0.8920\n"
     ]
    }
   ],
   "source": [
    "# Training the model with the nonlinear data\n",
    "model_moon = nn_model.fit(X_moon_train_scaled, y_moon_train, epochs=100, shuffle=True)"
   ]
  },
  {
   "cell_type": "code",
   "execution_count": 18,
   "id": "833a1569",
   "metadata": {},
   "outputs": [
    {
     "data": {
      "text/plain": [
       "<AxesSubplot:>"
      ]
     },
     "execution_count": 18,
     "metadata": {},
     "output_type": "execute_result"
    },
    {
     "data": {
      "image/png": "[encoded data removed]",
      "text/plain": [
       "<Figure size 432x288 with 1 Axes>"
      ]
     },
     "metadata": {
      "needs_background": "light"
     },
     "output_type": "display_data"
    }
   ],
   "source": [
    "# Create a DataFrame containing training history\n",
    "history_df = pd.DataFrame(model_moon.history, index=range(1,len(model_moon.history[\"loss\"])+1))\n",
    "\n",
    "# Plot the loss\n",
    "history_df.plot(y=\"loss\")"
   ]
  },
  {
   "cell_type": "code",
   "execution_count": 19,
   "id": "ce4c9743",
   "metadata": {},
   "outputs": [
    {
     "data": {
      "text/plain": [
       "<AxesSubplot:>"
      ]
     },
     "execution_count": 19,
     "metadata": {},
     "output_type": "execute_result"
    },
    {
     "data": {
      "image/png": "[encoded data removed]",
      "text/plain": [
       "<Figure size 432x288 with 1 Axes>"
      ]
     },
     "metadata": {
      "needs_background": "light"
     },
     "output_type": "display_data"
    }
   ],
   "source": [
    "# Plot the accuracy\n",
    "history_df.plot(y=\"accuracy\")"
   ]
  },
  {
   "cell_type": "code",
   "execution_count": 20,
   "id": "0d48f1fe",
   "metadata": {},
   "outputs": [],
   "source": [
    "# Generate our new Sequential model\n",
    "new_model = tf.keras.models.Sequential()"
   ]
  },
  {
   "cell_type": "code",
   "execution_count": 21,
   "id": "6b39e3a5",
   "metadata": {},
   "outputs": [],
   "source": [
    "# Add the input and hidden layer\n",
    "number_inputs = 2\n",
    "number_hidden_nodes = 6\n",
    "\n",
    "new_model.add(tf.keras.layers.Dense(units=number_hidden_nodes, activation=\"relu\", input_dim=number_inputs))\n",
    "\n",
    "# Add the output layer that uses a probability activation function\n",
    "new_model.add(tf.keras.layers.Dense(units=1, activation=\"sigmoid\"))"
   ]
  },
  {
   "cell_type": "code",
   "execution_count": 22,
   "id": "913947c7",
   "metadata": {},
   "outputs": [
    {
     "name": "stdout",
     "output_type": "stream",
     "text": [
      "Epoch 1/100\n",
      "24/24 [==============================] - 0s 783us/step - loss: 0.5534 - accuracy: 0.8627\n",
      "Epoch 2/100\n",
      "24/24 [==============================] - 0s 739us/step - loss: 0.5184 - accuracy: 0.8667\n",
      "Epoch 3/100\n",
      "24/24 [==============================] - 0s 739us/step - loss: 0.4888 - accuracy: 0.8693\n",
      "Epoch 4/100\n",
      "24/24 [==============================] - 0s 696us/step - loss: 0.4637 - accuracy: 0.8693\n",
      "Epoch 5/100\n",
      "24/24 [==============================] - 0s 783us/step - loss: 0.4427 - accuracy: 0.8693\n",
      "Epoch 6/100\n",
      "24/24 [==============================] - 0s 739us/step - loss: 0.4241 - accuracy: 0.8693\n",
      "Epoch 7/100\n",
      "24/24 [==============================] - 0s 739us/step - loss: 0.4074 - accuracy: 0.8720\n",
      "Epoch 8/100\n",
      "24/24 [==============================] - 0s 739us/step - loss: 0.3922 - accuracy: 0.8720\n",
      "Epoch 9/100\n",
      "24/24 [==============================] - 0s 739us/step - loss: 0.3786 - accuracy: 0.8720\n",
      "Epoch 10/100\n",
      "24/24 [==============================] - 0s 739us/step - loss: 0.3662 - accuracy: 0.8720\n",
      "Epoch 11/100\n",
      "24/24 [==============================] - 0s 696us/step - loss: 0.3547 - accuracy: 0.8733\n",
      "Epoch 12/100\n",
      "24/24 [==============================] - 0s 739us/step - loss: 0.3449 - accuracy: 0.8733\n",
      "Epoch 13/100\n",
      "24/24 [==============================] - 0s 739us/step - loss: 0.3357 - accuracy: 0.8747\n",
      "Epoch 14/100\n",
      "24/24 [==============================] - 0s 739us/step - loss: 0.3278 - accuracy: 0.8760\n",
      "Epoch 15/100\n",
      "24/24 [==============================] - 0s 696us/step - loss: 0.3205 - accuracy: 0.8760\n",
      "Epoch 16/100\n",
      "24/24 [==============================] - 0s 739us/step - loss: 0.3140 - accuracy: 0.8760\n",
      "Epoch 17/100\n",
      "24/24 [==============================] - 0s 739us/step - loss: 0.3082 - accuracy: 0.8773\n",
      "Epoch 18/100\n",
      "24/24 [==============================] - 0s 739us/step - loss: 0.3029 - accuracy: 0.8773\n",
      "Epoch 19/100\n",
      "24/24 [==============================] - 0s 739us/step - loss: 0.2981 - accuracy: 0.8773\n",
      "Epoch 20/100\n",
      "24/24 [==============================] - 0s 696us/step - loss: 0.2939 - accuracy: 0.8787\n",
      "Epoch 21/100\n",
      "24/24 [==============================] - 0s 696us/step - loss: 0.2901 - accuracy: 0.8787\n",
      "Epoch 22/100\n",
      "24/24 [==============================] - 0s 739us/step - loss: 0.2866 - accuracy: 0.8787\n",
      "Epoch 23/100\n",
      "24/24 [==============================] - 0s 739us/step - loss: 0.2835 - accuracy: 0.8800\n",
      "Epoch 24/100\n",
      "24/24 [==============================] - 0s 739us/step - loss: 0.2806 - accuracy: 0.8800\n",
      "Epoch 25/100\n",
      "24/24 [==============================] - 0s 739us/step - loss: 0.2781 - accuracy: 0.8800\n",
      "Epoch 26/100\n",
      "24/24 [==============================] - 0s 700us/step - loss: 0.2758 - accuracy: 0.8800\n",
      "Epoch 27/100\n",
      "24/24 [==============================] - 0s 739us/step - loss: 0.2736 - accuracy: 0.8800\n",
      "Epoch 28/100\n",
      "24/24 [==============================] - 0s 696us/step - loss: 0.2717 - accuracy: 0.8800\n",
      "Epoch 29/100\n",
      "24/24 [==============================] - 0s 739us/step - loss: 0.2699 - accuracy: 0.8813\n",
      "Epoch 30/100\n",
      "24/24 [==============================] - 0s 790us/step - loss: 0.2682 - accuracy: 0.8813\n",
      "Epoch 31/100\n",
      "24/24 [==============================] - 0s 826us/step - loss: 0.2666 - accuracy: 0.8813\n",
      "Epoch 32/100\n",
      "24/24 [==============================] - 0s 826us/step - loss: 0.2652 - accuracy: 0.8813\n",
      "Epoch 33/100\n",
      "24/24 [==============================] - 0s 783us/step - loss: 0.2639 - accuracy: 0.8813\n",
      "Epoch 34/100\n",
      "24/24 [==============================] - 0s 826us/step - loss: 0.2627 - accuracy: 0.8813\n",
      "Epoch 35/100\n",
      "24/24 [==============================] - 0s 739us/step - loss: 0.2616 - accuracy: 0.8813\n",
      "Epoch 36/100\n",
      "24/24 [==============================] - 0s 739us/step - loss: 0.2606 - accuracy: 0.8813\n",
      "Epoch 37/100\n",
      "24/24 [==============================] - 0s 739us/step - loss: 0.2595 - accuracy: 0.8853\n",
      "Epoch 38/100\n",
      "24/24 [==============================] - 0s 739us/step - loss: 0.2586 - accuracy: 0.8853\n",
      "Epoch 39/100\n",
      "24/24 [==============================] - 0s 739us/step - loss: 0.2578 - accuracy: 0.8880\n",
      "Epoch 40/100\n",
      "24/24 [==============================] - 0s 739us/step - loss: 0.2569 - accuracy: 0.8880\n",
      "Epoch 41/100\n",
      "24/24 [==============================] - 0s 739us/step - loss: 0.2562 - accuracy: 0.8880\n",
      "Epoch 42/100\n",
      "24/24 [==============================] - 0s 739us/step - loss: 0.2555 - accuracy: 0.8880\n",
      "Epoch 43/100\n",
      "24/24 [==============================] - 0s 739us/step - loss: 0.2547 - accuracy: 0.8880\n",
      "Epoch 44/100\n",
      "24/24 [==============================] - 0s 783us/step - loss: 0.2541 - accuracy: 0.8880\n",
      "Epoch 45/100\n",
      "24/24 [==============================] - 0s 739us/step - loss: 0.2534 - accuracy: 0.8880\n",
      "Epoch 46/100\n",
      "24/24 [==============================] - 0s 826us/step - loss: 0.2527 - accuracy: 0.8880\n",
      "Epoch 47/100\n",
      "24/24 [==============================] - 0s 783us/step - loss: 0.2520 - accuracy: 0.8907\n",
      "Epoch 48/100\n",
      "24/24 [==============================] - 0s 783us/step - loss: 0.2515 - accuracy: 0.8907\n",
      "Epoch 49/100\n",
      "24/24 [==============================] - 0s 783us/step - loss: 0.2508 - accuracy: 0.8907\n",
      "Epoch 50/100\n",
      "24/24 [==============================] - 0s 1ms/step - loss: 0.2502 - accuracy: 0.8920\n",
      "Epoch 51/100\n",
      "24/24 [==============================] - 0s 783us/step - loss: 0.2495 - accuracy: 0.8920\n",
      "Epoch 52/100\n",
      "24/24 [==============================] - 0s 826us/step - loss: 0.2490 - accuracy: 0.8907\n",
      "Epoch 53/100\n",
      "24/24 [==============================] - 0s 783us/step - loss: 0.2484 - accuracy: 0.8907\n",
      "Epoch 54/100\n",
      "24/24 [==============================] - 0s 696us/step - loss: 0.2477 - accuracy: 0.8933\n",
      "Epoch 55/100\n",
      "24/24 [==============================] - 0s 739us/step - loss: 0.2471 - accuracy: 0.8933\n",
      "Epoch 56/100\n",
      "24/24 [==============================] - 0s 696us/step - loss: 0.2465 - accuracy: 0.8933\n",
      "Epoch 57/100\n",
      "24/24 [==============================] - 0s 696us/step - loss: 0.2458 - accuracy: 0.8920\n",
      "Epoch 58/100\n",
      "24/24 [==============================] - 0s 696us/step - loss: 0.2452 - accuracy: 0.8920\n",
      "Epoch 59/100\n",
      "24/24 [==============================] - 0s 739us/step - loss: 0.2444 - accuracy: 0.8920\n",
      "Epoch 60/100\n",
      "24/24 [==============================] - 0s 696us/step - loss: 0.2438 - accuracy: 0.8920\n",
      "Epoch 61/100\n",
      "24/24 [==============================] - 0s 739us/step - loss: 0.2431 - accuracy: 0.8920\n",
      "Epoch 62/100\n",
      "24/24 [==============================] - 0s 783us/step - loss: 0.2424 - accuracy: 0.8920\n",
      "Epoch 63/100\n",
      "24/24 [==============================] - 0s 739us/step - loss: 0.2419 - accuracy: 0.8920\n",
      "Epoch 64/100\n",
      "24/24 [==============================] - 0s 739us/step - loss: 0.2409 - accuracy: 0.8920\n",
      "Epoch 65/100\n",
      "24/24 [==============================] - 0s 739us/step - loss: 0.2403 - accuracy: 0.8920\n",
      "Epoch 66/100\n",
      "24/24 [==============================] - 0s 739us/step - loss: 0.2394 - accuracy: 0.8920\n",
      "Epoch 67/100\n",
      "24/24 [==============================] - 0s 783us/step - loss: 0.2386 - accuracy: 0.8933\n",
      "Epoch 68/100\n",
      "24/24 [==============================] - 0s 739us/step - loss: 0.2378 - accuracy: 0.8933\n",
      "Epoch 69/100\n",
      "24/24 [==============================] - 0s 696us/step - loss: 0.2371 - accuracy: 0.8920\n",
      "Epoch 70/100\n",
      "24/24 [==============================] - 0s 739us/step - loss: 0.2362 - accuracy: 0.8933\n",
      "Epoch 71/100\n",
      "24/24 [==============================] - 0s 739us/step - loss: 0.2353 - accuracy: 0.8933\n",
      "Epoch 72/100\n",
      "24/24 [==============================] - 0s 696us/step - loss: 0.2344 - accuracy: 0.8933\n",
      "Epoch 73/100\n",
      "24/24 [==============================] - 0s 783us/step - loss: 0.2335 - accuracy: 0.8933\n",
      "Epoch 74/100\n",
      "24/24 [==============================] - 0s 783us/step - loss: 0.2328 - accuracy: 0.8933\n",
      "Epoch 75/100\n",
      "24/24 [==============================] - 0s 739us/step - loss: 0.2318 - accuracy: 0.8933\n",
      "Epoch 76/100\n",
      "24/24 [==============================] - 0s 739us/step - loss: 0.2309 - accuracy: 0.8960\n",
      "Epoch 77/100\n",
      "24/24 [==============================] - 0s 739us/step - loss: 0.2300 - accuracy: 0.8960\n",
      "Epoch 78/100\n",
      "24/24 [==============================] - 0s 739us/step - loss: 0.2290 - accuracy: 0.8987\n",
      "Epoch 79/100\n",
      "24/24 [==============================] - 0s 696us/step - loss: 0.2281 - accuracy: 0.8973\n",
      "Epoch 80/100\n",
      "24/24 [==============================] - 0s 696us/step - loss: 0.2272 - accuracy: 0.8973\n",
      "Epoch 81/100\n"
     ]
    },
    {
     "name": "stdout",
     "output_type": "stream",
     "text": [
      "24/24 [==============================] - 0s 696us/step - loss: 0.2262 - accuracy: 0.8987\n",
      "Epoch 82/100\n",
      "24/24 [==============================] - 0s 696us/step - loss: 0.2258 - accuracy: 0.8973\n",
      "Epoch 83/100\n",
      "24/24 [==============================] - 0s 652us/step - loss: 0.2243 - accuracy: 0.9013\n",
      "Epoch 84/100\n",
      "24/24 [==============================] - 0s 696us/step - loss: 0.2232 - accuracy: 0.9000\n",
      "Epoch 85/100\n",
      "24/24 [==============================] - 0s 739us/step - loss: 0.2223 - accuracy: 0.9013\n",
      "Epoch 86/100\n",
      "24/24 [==============================] - 0s 739us/step - loss: 0.2214 - accuracy: 0.9000\n",
      "Epoch 87/100\n",
      "24/24 [==============================] - 0s 739us/step - loss: 0.2203 - accuracy: 0.9000\n",
      "Epoch 88/100\n",
      "24/24 [==============================] - 0s 723us/step - loss: 0.2193 - accuracy: 0.9013\n",
      "Epoch 89/100\n",
      "24/24 [==============================] - 0s 739us/step - loss: 0.2183 - accuracy: 0.9027\n",
      "Epoch 90/100\n",
      "24/24 [==============================] - 0s 739us/step - loss: 0.2174 - accuracy: 0.9027\n",
      "Epoch 91/100\n",
      "24/24 [==============================] - 0s 696us/step - loss: 0.2162 - accuracy: 0.9027\n",
      "Epoch 92/100\n",
      "24/24 [==============================] - 0s 739us/step - loss: 0.2151 - accuracy: 0.9027\n",
      "Epoch 93/100\n",
      "24/24 [==============================] - 0s 696us/step - loss: 0.2141 - accuracy: 0.9027\n",
      "Epoch 94/100\n",
      "24/24 [==============================] - 0s 739us/step - loss: 0.2130 - accuracy: 0.9027\n",
      "Epoch 95/100\n",
      "24/24 [==============================] - 0s 739us/step - loss: 0.2119 - accuracy: 0.9053\n",
      "Epoch 96/100\n",
      "24/24 [==============================] - 0s 739us/step - loss: 0.2109 - accuracy: 0.9040\n",
      "Epoch 97/100\n",
      "24/24 [==============================] - 0s 783us/step - loss: 0.2097 - accuracy: 0.9040\n",
      "Epoch 98/100\n",
      "24/24 [==============================] - 0s 739us/step - loss: 0.2088 - accuracy: 0.9053\n",
      "Epoch 99/100\n",
      "24/24 [==============================] - 0s 783us/step - loss: 0.2076 - accuracy: 0.9067\n",
      "Epoch 100/100\n",
      "24/24 [==============================] - 0s 783us/step - loss: 0.2067 - accuracy: 0.9053\n"
     ]
    }
   ],
   "source": [
    "# Compile the Sequential model together and customize metrics\n",
    "new_model.compile(loss=\"binary_crossentropy\", optimizer=\"adam\", metrics=[\"accuracy\"])\n",
    "\n",
    "# Fit the model to the training data\n",
    "new_fit_model = new_model.fit(X_moon_train_scaled, y_moon_train, epochs=100, shuffle=True)"
   ]
  },
  {
   "cell_type": "code",
   "execution_count": null,
   "id": "ff60291a",
   "metadata": {},
   "outputs": [],
   "source": []
  }
 ],
 "metadata": {
  "kernelspec": {
   "display_name": "mlenv",
   "language": "python",
   "name": "mlenv"
  },
  "language_info": {
   "codemirror_mode": {
    "name": "ipython",
    "version": 3
   },
   "file_extension": ".py",
   "mimetype": "text/x-python",
   "name": "python",
   "nbconvert_exporter": "python",
   "pygments_lexer": "ipython3",
   "version": "3.7.13"
  }
 },
 "nbformat": 4,
 "nbformat_minor": 5
}
